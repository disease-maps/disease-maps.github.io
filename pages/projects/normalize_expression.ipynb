#@title Expression Normalizer { display-mode: "form" }

import pandas as pd
from google.colab import files

print("=== Expression Normalizer ===")

# Step 1: Upload file
uploaded = files.upload()

if len(uploaded) == 0:
    print("No file uploaded. Please upload a CSV or TSV file.")
else:
    filename = next(iter(uploaded))
    print(f"Uploaded file: {filename}")

    # Step 2: Detect separator by extension
    if filename.endswith(".tsv") or filename.endswith(".txt"):
        sep = "\t"
    elif filename.endswith(".csv"):
        sep = ","
    else:
        print("Unsupported file format. Please upload a .csv, .tsv, or .txt file.")
        raise SystemExit

    # Step 3: Read the data
    df = pd.read_csv(filename, sep=sep)

    # Step 4: Rename first column to identifier_hgnc_symbol
    original_first_col = df.columns[0]
    df.rename(columns={original_first_col: "identifier_hgnc_symbol"}, inplace=True)

    # Step 5: Check 'value' column exists
    if 'value' not in df.columns:
        print(f"Error: Column 'value' not found. Available columns: {list(df.columns)}")
        raise SystemExit

    # Step 6: Normalize 'value' column to [-1,1]
    df['value'] = (df['value'] / 3).clip(-1, 1)

    # Step 7: Save output as tab-separated txt file
    output_filename = filename.rsplit('.', 1)[0] + "_normalized.txt"
    df.to_csv(output_filename, sep="\t", index=False)

    print(f"Normalized file saved as: {output_filename}")

    # Step 8: Download the file
    files.download(output_filename)

