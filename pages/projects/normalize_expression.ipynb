{
  "cells": [
    {
      "cell_type": "code",
      "metadata": {},
      "source": [
        "#@title Expression Normalizer { display-mode: \"form\" }\n",
        "import pandas as pd\n",
        "from google.colab import files\n",
        "\n",
        "print(\"=== Expression Normalizer ===\")\n",
        "\n",
        "# Step 1: Upload file\n",
        "uploaded = files.upload()\n",
        "\n",
        "if len(uploaded) == 0:\n",
        "    print(\"No file uploaded. Please upload a CSV or TSV file.\")\n",
        "else:\n",
        "    filename = next(iter(uploaded))\n",
        "    print(f\"Uploaded file: {filename}\")\n",
        "\n",
        "    # Step 2: Detect separator by extension\n",
        "    if filename.endswith(\".tsv\") or filename.endswith(\".txt\"):\n",
        "        sep = \"\\t\"\n",
        "    elif filename.endswith(\".csv\"):\n",
        "        sep = \",\"\n",
        "    else:\n",
        "        print(\"Unsupported file format. Please upload a .csv, .tsv, or .txt file.\")\n",
        "        raise SystemExit\n",
        "\n",
        "    # Step 3: Read the data\n",
        "    df = pd.read_csv(filename, sep=sep)\n",
        "\n",
        "    # Step 4: Rename first column to identifier_hgnc_symbol\n",
        "    original_first_col = df.columns[0]\n",
        "    df.rename(columns={original_first_col: \"identifier_hgnc_symbol\"}, inplace=True)\n",
        "\n",
        "    # Step 5: Check 'value' column exists\n",
        "    if 'value' not in df.columns:\n",
        "        print(f\"Error: Column 'value' not found. Available columns: {list(df.columns)}\")\n",
        "        raise SystemExit\n",
        "\n",
        "    # Step 6: Normalize 'value' column to [-1,1]\n",
        "    df['value'] = (df['value'] / 3).clip(-1, 1)\n",
        "\n",
        "    # Step 7: Save output as tab-separated txt file\n",
        "    output_filename = filename.rsplit('.', 1)[0] + \"_normalized.txt\"\n",
        "    df.to_csv(output_filename, sep=\"\\t\", index=False)\n",
        "\n",
        "    print(f\"\u2705 Normalized file saved as: {output_filename}\")\n",
        "\n",
        "    # Step 8: Download the file\n",
        "    files.download(output_filename)\n"
      ],
      "execution_count": null,
      "outputs": []
    }
  ],
  "metadata": {
    "kernelspec": {
      "display_name": "Python 3",
      "language": "python",
      "name": "python3"
    },
    "language_info": {
      "name": "python",
      "version": "3.10"
    }
  },
  "nbformat": 4,
  "nbformat_minor": 5
}